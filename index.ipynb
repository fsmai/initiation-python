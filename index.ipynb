{
 "cells": [
  {
   "cell_type": "markdown",
   "metadata": {},
   "source": [
    "# Initiation à la programmation en Python\n",
    "\n",
    "---"
   ]
  },
  {
   "cell_type": "markdown",
   "metadata": {},
   "source": [
    "### Prélude\n",
    "- [Préparation de l'environnement de travail](prelude/anaconda.ipynb)\n",
    "- [Qu'est-ce que la programmation ?](prelude/preliminaires-prog.ipynb)\n",
    "- [Python ?](prelude/intro-python.ipynb)\n",
    "\n",
    "### Démarrer avec Python\n",
    "- [Les types de base](start-python/types-de-base.ipynb)\n",
    "- [*print*](start-python/print.ipynb)\n",
    "- [Noms et variables](start-python/noms-variables.ipynb)\n",
    "- [Introduction aux fonctions](start-python/fonction-intro.ipynb)\n",
    "- [*type()* et *help()* : introspection](start-python/introspection.ipynb)\n",
    "- [Les conteneurs de base](start-python/data-structures.ipynb)\n",
    "- [Noms et objets non immuables](start-python/naming-vs-pointer.ipynb)\n",
    "- [Structure de contrôle](start-python/controle-flux.ipynb)\n",
    "- [Structuration du code](start-python/code-block.ipynb)\n",
    "\n",
    "### Aller plus loin avec Python\n",
    "- [*String template*](more-python/string-template.ipynb)\n",
    "- [Utilisation avancée des indices](more-python/indexing-tricks.ipynb)\n",
    "- [*Unpacking*](more-python/unpacking.ipynb)\n",
    "- [Le retour des fonctions](more-python/function-arguments.ipynb)\n",
    "- [Utilisation avancée des conteneurs](more-python/container-methods.ipynb)\n",
    "- [Bien boucler en Python](more-python/loop-pythonic.ipynb)\n",
    "- [Lire et écrire des fichiers](more-python/open-files.ipynb)\n",
    "- [Aperçu des fonctions *built-in*](more-python/builtin-functions.ipynb)\n",
    "- [Exceptions](more-python/exceptions.ipynb)\n",
    "- [Listes en intention](more-python/list-comprehension.ipynb)\n",
    "- [Fonctions d'ordre supérieur](more-python/higher-order-function.ipynb)\n",
    "- [Les générateurs](more-python/generator.ipynb)\n",
    "\n",
    "### Au-delà du langage : les modules\n",
    "- [Qu'est-ce qu'un module ?](python-modules/intro.ipynb)\n",
    "- [stdlib : *String Services*](python-modules/stdlib-string-services.ipynb)\n",
    "- [stdlib : *Data Types*](python-modules/stdlib-data-types.ipynb)\n",
    "- [stdlib : *Numeric tools*](python-modules/stdlib-numeric-tools.ipynb)\n",
    "- [stdlib : *File and Directory Access*](python-modules/stdlib-file-directory.ipynb)\n",
    "- [stdlib : Le module *subprocess*](python-modules/stdlib-subprocess.ipynb)\n",
    "- [stdlib : et plus encore...](https://docs.python.org/library/) (`https://docs.python.org/library`)\n",
    "- [Les modules tiers](python-modules/modules-tiers.ipynb)\n",
    "\n",
    "\n",
    "### Modules scientifiques\n",
    "- [Aperçu de l'écosystème](scientific-python/intro.ipynb)\n",
    "- [Numpy](scientific-python/numpy.ipynb)\n",
    "- [Scipy](scientific-python/scipy.ipynb)\n",
    "- [Matplotlib](scientific-python/matplotlib.ipynb)\n"
   ]
  }
 ],
 "metadata": {
  "kernelspec": {
   "display_name": "Python 2",
   "language": "python",
   "name": "python2"
  },
  "language_info": {
   "codemirror_mode": {
    "name": "ipython",
    "version": 2
   },
   "file_extension": ".py",
   "mimetype": "text/x-python",
   "name": "python",
   "nbconvert_exporter": "python",
   "pygments_lexer": "ipython2",
   "version": "2.7.10"
  }
 },
 "nbformat": 4,
 "nbformat_minor": 0
}
